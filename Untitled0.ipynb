{
 "metadata": {
  "name": "Untitled0"
 },
 "nbformat": 3,
 "nbformat_minor": 0,
 "worksheets": [
  {
   "cells": [
    {
     "cell_type": "heading",
     "level": 3,
     "metadata": {},
     "source": [
      "Mutual Information Simple Calculation. \n",
      "This notebook is going to be used to work through the concepts of entropy and mutual information for a very simple system"
     ]
    },
    {
     "cell_type": "code",
     "collapsed": false,
     "input": [
      "from IPython.display import display,Math,Latex\n",
      "import numpy as np\n",
      "import random\n",
      "import pylab\n",
      "from __future__ import division\n",
      "from pylab import *\n",
      "x=linspace(-3,3,2000)\n",
      "f=np.e**(-x**2/2)/sqrt(2*np.pi)\n",
      "plot(x,f)"
     ],
     "language": "python",
     "metadata": {},
     "outputs": [
      {
       "output_type": "pyout",
       "prompt_number": 1,
       "text": [
        "[<matplotlib.lines.Line2D at 0x10d66c510>]"
       ]
      },
      {
       "output_type": "display_data",
       "png": "[encoded data removed]"
      }
     ],
     "prompt_number": 1
    },
    {
     "cell_type": "code",
     "collapsed": false,
     "input": [
      "print\"The analytical solution for the entropy is\"\n",
      "display(Math(r'\\mathit{H}(x)=\\frac{1}{2}ln(2\\pi e \\sigma^2)'))\n",
      "print \"which can be approxmiated to be\"\n",
      "print (0.5*numpy.log(2*numpy.pi*numpy.e))"
     ],
     "language": "python",
     "metadata": {},
     "outputs": [
      {
       "output_type": "stream",
       "stream": "stdout",
       "text": [
        "The analytical solution for the entropy is\n"
       ]
      },
      {
       "latex": [
        "$$\\mathit{H}(x)=\\frac{1}{2}ln(2\\pi e \\sigma^2)$$"
       ],
       "output_type": "display_data",
       "text": [
        "<IPython.core.display.Math at 0x10d6c1c90>"
       ]
      },
      {
       "output_type": "stream",
       "stream": "stdout",
       "text": [
        "which can be approxmiated to be\n",
        "1.4189385332\n"
       ]
      }
     ],
     "prompt_number": 2
    },
    {
     "cell_type": "heading",
     "level": 1,
     "metadata": {},
     "source": [
      "Discrete Data"
     ]
    },
    {
     "cell_type": "markdown",
     "metadata": {},
     "source": [
      "For discrete data, we will first get a bunch of random numbers using numpy.random.normal. Then we will bin the data into 40 bins. "
     ]
    },
    {
     "cell_type": "code",
     "collapsed": false,
     "input": [
      "x=numpy.random.normal(loc=0.0,scale=1.0,size=1000)"
     ],
     "language": "python",
     "metadata": {},
     "outputs": [],
     "prompt_number": 3
    },
    {
     "cell_type": "code",
     "collapsed": false,
     "input": [
      "bin_count,bin_limit=numpy.histogram(x,bins=40,range=[-4,4],normed=False)"
     ],
     "language": "python",
     "metadata": {},
     "outputs": [],
     "prompt_number": 4
    },
    {
     "cell_type": "code",
     "collapsed": false,
     "input": [
      "bin_limit"
     ],
     "language": "python",
     "metadata": {},
     "outputs": [
      {
       "output_type": "pyout",
       "prompt_number": 5,
       "text": [
        "array([-4. , -3.8, -3.6, -3.4, -3.2, -3. , -2.8, -2.6, -2.4, -2.2, -2. ,\n",
        "       -1.8, -1.6, -1.4, -1.2, -1. , -0.8, -0.6, -0.4, -0.2,  0. ,  0.2,\n",
        "        0.4,  0.6,  0.8,  1. ,  1.2,  1.4,  1.6,  1.8,  2. ,  2.2,  2.4,\n",
        "        2.6,  2.8,  3. ,  3.2,  3.4,  3.6,  3.8,  4. ])"
       ]
      }
     ],
     "prompt_number": 5
    },
    {
     "cell_type": "code",
     "collapsed": false,
     "input": [
      "bin_mid=(bin_limit[1:]+bin_limit[:-1])/2"
     ],
     "language": "python",
     "metadata": {},
     "outputs": [],
     "prompt_number": 6
    },
    {
     "cell_type": "code",
     "collapsed": false,
     "input": [
      "bin_mid"
     ],
     "language": "python",
     "metadata": {},
     "outputs": [
      {
       "output_type": "pyout",
       "prompt_number": 7,
       "text": [
        "array([-3.9, -3.7, -3.5, -3.3, -3.1, -2.9, -2.7, -2.5, -2.3, -2.1, -1.9,\n",
        "       -1.7, -1.5, -1.3, -1.1, -0.9, -0.7, -0.5, -0.3, -0.1,  0.1,  0.3,\n",
        "        0.5,  0.7,  0.9,  1.1,  1.3,  1.5,  1.7,  1.9,  2.1,  2.3,  2.5,\n",
        "        2.7,  2.9,  3.1,  3.3,  3.5,  3.7,  3.9])"
       ]
      }
     ],
     "prompt_number": 7
    },
    {
     "cell_type": "code",
     "collapsed": false,
     "input": [
      "plot(bin_mid,bin_count)"
     ],
     "language": "python",
     "metadata": {},
     "outputs": [
      {
       "output_type": "pyout",
       "prompt_number": 8,
       "text": [
        "[<matplotlib.lines.Line2D at 0x10d6a47d0>]"
       ]
      },
      {
       "output_type": "display_data",
       "png": "[encoded data removed]"
      }
     ],
     "prompt_number": 8
    },
    {
     "cell_type": "markdown",
     "metadata": {},
     "source": [
      "the entropy is now a bit different because the forumla for entropy using the formula from the moddemejier paper "
     ]
    },
    {
     "cell_type": "code",
     "collapsed": false,
     "input": [
      "display(Math(r'\\mathit{ H(x) = -\\sum_i( \\frac{k_i}{N}log\\frac{k_i}{N})+ log\\Delta x}'))\n",
      "print \"where\"\n",
      "display(Math(r'k_i'))\n",
      "print \"is the bincount in the ith bin AND\"\n",
      "display(Math(r'\\Delta x'))\n",
      "print \"is the binsize\""
     ],
     "language": "python",
     "metadata": {},
     "outputs": [
      {
       "latex": [
        "$$\\mathit{ H(x) = -\\sum_i( \\frac{k_i}{N}log\\frac{k_i}{N})+ log\\Delta x}$$"
       ],
       "output_type": "display_data",
       "text": [
        "<IPython.core.display.Math at 0x10d688610>"
       ]
      },
      {
       "output_type": "stream",
       "stream": "stdout",
       "text": [
        "where\n"
       ]
      },
      {
       "latex": [
        "$$k_i$$"
       ],
       "output_type": "display_data",
       "text": [
        "<IPython.core.display.Math at 0x10d688610>"
       ]
      },
      {
       "output_type": "stream",
       "stream": "stdout",
       "text": [
        "is the bincount in the ith bin AND\n"
       ]
      },
      {
       "latex": [
        "$$\\Delta x$$"
       ],
       "output_type": "display_data",
       "text": [
        "<IPython.core.display.Math at 0x10d693190>"
       ]
      },
      {
       "output_type": "stream",
       "stream": "stdout",
       "text": [
        "is the binsize\n"
       ]
      }
     ],
     "prompt_number": 9
    },
    {
     "cell_type": "code",
     "collapsed": false,
     "input": [
      "print \"for our case the entropy is then\"\n",
      "N=sum(bin_count)\n",
      "-numpy.nansum(bin_count/N*numpy.log(bin_count/N))+numpy.log(bin_limit[1]-bin_limit[0])"
     ],
     "language": "python",
     "metadata": {},
     "outputs": [
      {
       "output_type": "stream",
       "stream": "stdout",
       "text": [
        "for our case the entropy is then\n"
       ]
      },
      {
       "output_type": "stream",
       "stream": "stderr",
       "text": [
        "-c:3: RuntimeWarning: divide by zero encountered in log\n",
        "-c:3: RuntimeWarning: invalid value encountered in multiply\n"
       ]
      },
      {
       "output_type": "pyout",
       "prompt_number": 10,
       "text": [
        "1.4035024877557951"
       ]
      }
     ],
     "prompt_number": 10
    },
    {
     "cell_type": "heading",
     "level": 1,
     "metadata": {},
     "source": [
      "Improving the Entropy calculation"
     ]
    },
    {
     "cell_type": "heading",
     "level": 3,
     "metadata": {},
     "source": [
      "let us see what improves this estimate"
     ]
    },
    {
     "cell_type": "code",
     "collapsed": false,
     "input": [
      "x=numpy.random.normal(loc=0.0,scale=1.0,size=10000)\n",
      "H_values=numpy.zeros(100)\n",
      "for bin_number in range(1,100):\n",
      "    bin_count,bin_limit=numpy.histogram(x,bins=bin_number,range=[-3,3],normed=False)\n",
      "    N=len(x)\n",
      "    dx=(bin_limit[1]-bin_limit[0])\n",
      "    H_values[bin_number]=-numpy.nansum(bin_count/N*numpy.log(bin_count/N))+numpy.log(dx)"
     ],
     "language": "python",
     "metadata": {},
     "outputs": [
      {
       "output_type": "stream",
       "stream": "stderr",
       "text": [
        "-c:7: RuntimeWarning: divide by zero encountered in log\n",
        "-c:7: RuntimeWarning: invalid value encountered in multiply\n"
       ]
      }
     ],
     "prompt_number": 11
    },
    {
     "cell_type": "code",
     "collapsed": false,
     "input": [
      "analytical=(0.5*numpy.log(2*numpy.pi*numpy.e))\n",
      "axis([0,100,0,2.0])\n",
      "plot(H_values,color='blue')\n",
      "axhline(analytical,color='red')"
     ],
     "language": "python",
     "metadata": {},
     "outputs": [
      {
       "output_type": "pyout",
       "prompt_number": 12,
       "text": [
        "<matplotlib.lines.Line2D at 0x10e43ce50>"
       ]
      },
      {
       "output_type": "display_data",
       "png": "[encoded data removed]"
      }
     ],
     "prompt_number": 12
    },
    {
     "cell_type": "code",
     "collapsed": false,
     "input": [
      "plot(H_values-analytical)"
     ],
     "language": "python",
     "metadata": {},
     "outputs": [
      {
       "output_type": "pyout",
       "prompt_number": 13,
       "text": [
        "[<matplotlib.lines.Line2D at 0x10e4cabd0>]"
       ]
      },
      {
       "output_type": "display_data",
       "png": "[encoded data removed]"
      }
     ],
     "prompt_number": 13
    },
    {
     "cell_type": "heading",
     "level": 2,
     "metadata": {},
     "source": [
      "What is the histogram function"
     ]
    },
    {
     "cell_type": "code",
     "collapsed": false,
     "input": [
      "x=numpy.random.normal(loc=0.0,scale=1.0,size=10000)\n",
      "bin_count,bin_limit=numpy.histogram(x,bins=40,range=[-3,3],density=True)"
     ],
     "language": "python",
     "metadata": {},
     "outputs": [],
     "prompt_number": 14
    },
    {
     "cell_type": "heading",
     "level": 1,
     "metadata": {},
     "source": [
      "2-D Histogram"
     ]
    },
    {
     "cell_type": "code",
     "collapsed": false,
     "input": [
      "x=numpy.random.normal(loc=0.0,scale=1.0,size=10000)\n",
      "y=numpy.random.normal(loc=0.0,scale=1.0,size=10000)\n",
      "upper=numpy.mean(x)+3*numpy.std(x)\n",
      "lower=numpy.mean(x)-3*numpy.std(x)\n",
      "print upper, lower\n",
      "bin_counts,xedges,yedges = numpy.histogram2d(x, y, bins=40 ,range=[[lower,upper],[lower,upper]])\n",
      "extent = [yedges[0], yedges[-1], xedges[-1], xedges[0]]\n",
      "plt.imshow(bin_counts, extent=extent, interpolation='nearest')\n",
      "plt.colorbar()\n"
     ],
     "language": "python",
     "metadata": {},
     "outputs": [
      {
       "output_type": "stream",
       "stream": "stdout",
       "text": [
        "3.00352620997 -2.9940834845\n"
       ]
      },
      {
       "output_type": "pyout",
       "prompt_number": 40,
       "text": [
        "<matplotlib.colorbar.Colorbar instance at 0x110035c68>"
       ]
      },
      {
       "output_type": "display_data",
       "png": "[encoded data removed]"
      }
     ],
     "prompt_number": 40
    },
    {
     "cell_type": "heading",
     "level": 1,
     "metadata": {},
     "source": [
      "Joint Entropy and Marginal Entropies"
     ]
    },
    {
     "cell_type": "code",
     "collapsed": false,
     "input": [
      "print\"The analytical solution for the joint entropy is\"\n",
      "display(Math(r'\\mathit{H}(x,y)=\\frac{1}{2}ln((2\\pi e)^k |{\\Sigma}|)'))\n",
      "print \"where\"\n",
      "display(Math(r'\\Sigma \\space is  the k*k covariance matrix'  ))\n",
      "print \"which can be approxmiated to be\"\n",
      "det=numpy.linalg.det(numpy.cov(x,y))\n",
      "print det\n",
      "print (0.5*numpy.log(det * (2*numpy.pi*numpy.e)**2))"
     ],
     "language": "python",
     "metadata": {},
     "outputs": [
      {
       "output_type": "stream",
       "stream": "stdout",
       "text": [
        "The analytical solution for the joint entropy is\n"
       ]
      },
      {
       "latex": [
        "$$\\mathit{H}(x,y)=\\frac{1}{2}ln((2\\pi e)^k |{\\Sigma}|)$$"
       ],
       "output_type": "display_data",
       "text": [
        "<IPython.core.display.Math at 0x10ee374d0>"
       ]
      },
      {
       "output_type": "stream",
       "stream": "stdout",
       "text": [
        "where\n"
       ]
      },
      {
       "latex": [
        "$$\\Sigma \\space is  the k*k covariance matrix$$"
       ],
       "output_type": "display_data",
       "text": [
        "<IPython.core.display.Math at 0x10eb14c10>"
       ]
      },
      {
       "output_type": "stream",
       "stream": "stdout",
       "text": [
        "which can be approxmiated to be\n",
        "1.00059755515\n",
        "2.83817575475\n"
       ]
      }
     ],
     "prompt_number": 44
    },
    {
     "cell_type": "code",
     "collapsed": false,
     "input": [
      "dx=xedges[1]-xedges[0]\n",
      "dy=yedges[1]-yedges[0]\n",
      "assert len(x)==len(y)\n",
      "N=len(x)\n",
      "x_n=numpy.sum(bin_counts,axis=0)\n",
      "y_n=numpy.sum(bin_counts,axis=1)\n",
      "H_x=-numpy.nansum((x_n/N) *numpy.log(x_n/N))+numpy.log(dx)\n",
      "H_y=-numpy.nansum((y_n/N) *numpy.log(y_n/N))+numpy.log(dy)\n",
      "H_x_y=-numpy.nansum((bin_counts/N)*numpy.log(bin_counts/N))+numpy.log(dx*dy)\n",
      "I=H_x+H_y-H_x_y\n",
      "print H_x, H_y,H_x_y,I"
     ],
     "language": "python",
     "metadata": {},
     "outputs": [
      {
       "output_type": "stream",
       "stream": "stdout",
       "text": [
        "1.39198572654 1.37758319927 2.69526567235 0.0743032534627\n"
       ]
      },
      {
       "output_type": "stream",
       "stream": "stderr",
       "text": [
        "-c:9: RuntimeWarning: divide by zero encountered in log\n",
        "-c:9: RuntimeWarning: invalid value encountered in multiply\n"
       ]
      }
     ],
     "prompt_number": 16
    },
    {
     "cell_type": "code",
     "collapsed": false,
     "input": [
      "from scipy.stats.stats import pearsonr\n",
      "x_sort=numpy.sort(x)\n",
      "y_sort=numpy.sort(y)\n",
      "cov,pvalue=pearsonr(x_sort,y_sort)\n",
      "print cov\n",
      "(-0.5*numpy.log(1 - cov**2))"
     ],
     "language": "python",
     "metadata": {},
     "outputs": [
      {
       "output_type": "stream",
       "stream": "stdout",
       "text": [
        "0.999809158518\n"
       ]
      },
      {
       "output_type": "pyout",
       "prompt_number": 17,
       "text": [
        "3.9355078274932187"
       ]
      }
     ],
     "prompt_number": 17
    },
    {
     "cell_type": "heading",
     "level": 1,
     "metadata": {},
     "source": [
      "Simple Example to prove that the code works for N=10"
     ]
    },
    {
     "cell_type": "code",
     "collapsed": false,
     "input": [
      "bin_counts=numpy.array([[0.25*10,0.5*10],[0.25*10,0]])\n",
      "print p_x_y"
     ],
     "language": "python",
     "metadata": {},
     "outputs": [
      {
       "output_type": "stream",
       "stream": "stdout",
       "text": [
        "[[ 2.5  5. ]\n",
        " [ 2.5  0. ]]\n"
       ]
      }
     ],
     "prompt_number": 23
    },
    {
     "cell_type": "code",
     "collapsed": false,
     "input": [
      "x_n=numpy.sum(bin_counts,axis=0)\n",
      "y_n=numpy.sum(bin_counts,axis=1)\n",
      "dx=dy=1\n",
      "N=10\n",
      "H_x=-numpy.nansum((x_n/N) *numpy.log(x_n/N))+numpy.log(dx)\n",
      "H_y=-numpy.nansum((y_n/N) *numpy.log(y_n/N))+numpy.log(dy)\n",
      "H_x_y=-numpy.nansum((bin_counts/N)*numpy.log(bin_counts/N))+numpy.log(dx*dy)\n",
      "I=H_x+H_y-H_x_y\n",
      "print H_x, H_y,H_x_y,I"
     ],
     "language": "python",
     "metadata": {},
     "outputs": [
      {
       "output_type": "stream",
       "stream": "stdout",
       "text": [
        "0.69314718056 0.562335144619 1.03972077084 0.215761554339\n"
       ]
      }
     ],
     "prompt_number": 33
    },
    {
     "cell_type": "code",
     "collapsed": false,
     "input": [
      "(2-0.75*numpy.log2(3))*.69314718056"
     ],
     "language": "python",
     "metadata": {},
     "outputs": [
      {
       "output_type": "pyout",
       "prompt_number": 40,
       "text": [
        "1.03972077084"
       ]
      }
     ],
     "prompt_number": 40
    },
    {
     "cell_type": "code",
     "collapsed": false,
     "input": [
      "(1+(2-0.75*numpy.log2(3))-1.5)*0.69314718056"
     ],
     "language": "python",
     "metadata": {},
     "outputs": [
      {
       "output_type": "pyout",
       "prompt_number": 41,
       "text": [
        "0.21576155433885277"
       ]
      }
     ],
     "prompt_number": 41
    },
    {
     "cell_type": "markdown",
     "metadata": {},
     "source": [
      "Reference: http://www.cims.nyu.edu/~chou/notes/infotheory.pdf"
     ]
    },
    {
     "cell_type": "code",
     "collapsed": false,
     "input": [],
     "language": "python",
     "metadata": {},
     "outputs": []
    },
    {
     "cell_type": "code",
     "collapsed": false,
     "input": [],
     "language": "python",
     "metadata": {},
     "outputs": []
    },
    {
     "cell_type": "code",
     "collapsed": false,
     "input": [],
     "language": "python",
     "metadata": {},
     "outputs": []
    }
   ],
   "metadata": {}
  }
 ]
}